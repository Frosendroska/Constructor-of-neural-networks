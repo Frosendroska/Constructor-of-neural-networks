{
  "nbformat": 4,
  "nbformat_minor": 0,
  "metadata": {
    "colab": {
      "name": "project_sample.ipynb",
      "provenance": []
    },
    "kernelspec": {
      "name": "python3",
      "display_name": "Python 3"
    },
    "language_info": {
      "name": "python"
    }
  },
  "cells": [
    {
      "cell_type": "code",
      "execution_count": 1,
      "metadata": {
        "id": "MpZhL3HPwCww"
      },
      "outputs": [],
      "source": [
        "import constructor\n",
        "import sklearn\n",
        "from sklearn.datasets import make_regression\n",
        "from sklearn.datasets import make_classification\n",
        "import matplotlib.pyplot as plt\n",
        "import seaborn as sns\n",
        "import numpy as np\n",
        "import torch\n",
        "import torch.nn.functional as F"
      ]
    },
    {
      "cell_type": "code",
      "source": [
        "json_file = {'cnt' : 3, 'type': 'regression', 'layers_info' : [1, 50, 30], 'output': 1, 'active_f': ['relu', 'relu'], 'rate' : 0.001}\n",
        "info = constructor.Information(json_file)\n",
        "my_model = constructor.MyNeuralNetwork(info)\n",
        "optimizer = torch.optim.Adam(my_model.parameters(), lr=info.rate)\n",
        "criterion = constructor.loss_functions[info.type_module]"
      ],
      "metadata": {
        "id": "VTmXp8DJwZE3"
      },
      "execution_count": 2,
      "outputs": []
    },
    {
      "cell_type": "markdown",
      "source": [
        "## Пример с регрессией"
      ],
      "metadata": {
        "id": "C_l6GqxizFIm"
      }
    },
    {
      "cell_type": "code",
      "source": [
        "data1 = make_regression(n_samples=50, n_features=1, n_informative=1, n_targets=1, \n",
        "                        bias=0.0, effective_rank=None,tail_strength=0.5, \n",
        "                        noise=3, shuffle=True, coef=False, random_state=None)"
      ],
      "metadata": {
        "id": "BOGJOsc4yC54"
      },
      "execution_count": 3,
      "outputs": []
    },
    {
      "cell_type": "code",
      "source": [
        "plt.scatter(data1[0], data1[1], color='orange')"
      ],
      "metadata": {
        "colab": {
          "base_uri": "https://localhost:8080/",
          "height": 282
        },
        "id": "KTONUCQ1zNHn",
        "outputId": "1c2921e0-c253-4e64-fefa-1927e5c32080"
      },
      "execution_count": 4,
      "outputs": [
        {
          "output_type": "execute_result",
          "data": {
            "text/plain": [
              "<matplotlib.collections.PathCollection at 0x7fe5d1d1df10>"
            ]
          },
          "metadata": {},
          "execution_count": 4
        },
        {
          "output_type": "display_data",
          "data": {
            "text/plain": [
              "<Figure size 432x288 with 1 Axes>"
            ],
            "image/png": "[encoded data removed]"
          },
          "metadata": {
            "needs_background": "light"
          }
        }
      ]
    },
    {
      "cell_type": "code",
      "source": [
        "train_x = torch.from_numpy(data1[0][:40]).float()\n",
        "train_y = torch.from_numpy(data1[1][:40]).float().view(40, 1)\n",
        "test_x = torch.from_numpy(data1[0][40:]).float()\n",
        "test_y = torch.from_numpy(data1[1][40:]).float().view(10, 1)"
      ],
      "metadata": {
        "id": "NWaG0nqpzRJp"
      },
      "execution_count": 5,
      "outputs": []
    },
    {
      "cell_type": "code",
      "source": [
        "history = []\n",
        "constructor.study(my_model, train_x, train_y, test_x, test_y, criterion, \n",
        "                  optimizer, 80, history)"
      ],
      "metadata": {
        "colab": {
          "base_uri": "https://localhost:8080/"
        },
        "id": "yQz5EXFdzX_m",
        "outputId": "68fee725-0fc6-4000-cbd9-c9b550e576b6"
      },
      "execution_count": 8,
      "outputs": [
        {
          "output_type": "stream",
          "name": "stdout",
          "text": [
            "Epoch 1 \n",
            "-------------------------------\n",
            "Avg loss: 2.170737\n",
            "Epoch 2 \n",
            "-------------------------------\n",
            "Avg loss: 2.118312\n",
            "Epoch 3 \n",
            "-------------------------------\n",
            "Avg loss: 2.066539\n",
            "Epoch 4 \n",
            "-------------------------------\n",
            "Avg loss: 2.015389\n",
            "Epoch 5 \n",
            "-------------------------------\n",
            "Avg loss: 1.964890\n",
            "Epoch 6 \n",
            "-------------------------------\n",
            "Avg loss: 1.915165\n",
            "Epoch 7 \n",
            "-------------------------------\n",
            "Avg loss: 1.866170\n",
            "Epoch 8 \n",
            "-------------------------------\n",
            "Avg loss: 1.817998\n",
            "Epoch 9 \n",
            "-------------------------------\n",
            "Avg loss: 1.770603\n",
            "Epoch 10 \n",
            "-------------------------------\n",
            "Avg loss: 1.724016\n",
            "Epoch 11 \n",
            "-------------------------------\n",
            "Avg loss: 1.678217\n",
            "Epoch 12 \n",
            "-------------------------------\n",
            "Avg loss: 1.633345\n",
            "Epoch 13 \n",
            "-------------------------------\n",
            "Avg loss: 1.589573\n",
            "Epoch 14 \n",
            "-------------------------------\n",
            "Avg loss: 1.546994\n",
            "Epoch 15 \n",
            "-------------------------------\n",
            "Avg loss: 1.505383\n",
            "Epoch 16 \n",
            "-------------------------------\n",
            "Avg loss: 1.464853\n",
            "Epoch 17 \n",
            "-------------------------------\n",
            "Avg loss: 1.425458\n",
            "Epoch 18 \n",
            "-------------------------------\n",
            "Avg loss: 1.387227\n",
            "Epoch 19 \n",
            "-------------------------------\n",
            "Avg loss: 1.350188\n",
            "Epoch 20 \n",
            "-------------------------------\n",
            "Avg loss: 1.314332\n",
            "Epoch 21 \n",
            "-------------------------------\n",
            "Avg loss: 1.279681\n",
            "Epoch 22 \n",
            "-------------------------------\n",
            "Avg loss: 1.246238\n",
            "Epoch 23 \n",
            "-------------------------------\n",
            "Avg loss: 1.214055\n",
            "Epoch 24 \n",
            "-------------------------------\n",
            "Avg loss: 1.183140\n",
            "Epoch 25 \n",
            "-------------------------------\n",
            "Avg loss: 1.153523\n",
            "Epoch 26 \n",
            "-------------------------------\n",
            "Avg loss: 1.125122\n",
            "Epoch 27 \n",
            "-------------------------------\n",
            "Avg loss: 1.098044\n",
            "Epoch 28 \n",
            "-------------------------------\n",
            "Avg loss: 1.072221\n",
            "Epoch 29 \n",
            "-------------------------------\n",
            "Avg loss: 1.047563\n",
            "Epoch 30 \n",
            "-------------------------------\n",
            "Avg loss: 1.024101\n",
            "Epoch 31 \n",
            "-------------------------------\n",
            "Avg loss: 1.001906\n",
            "Epoch 32 \n",
            "-------------------------------\n",
            "Avg loss: 0.980958\n",
            "Epoch 33 \n",
            "-------------------------------\n",
            "Avg loss: 0.961230\n",
            "Epoch 34 \n",
            "-------------------------------\n",
            "Avg loss: 0.942668\n",
            "Epoch 35 \n",
            "-------------------------------\n",
            "Avg loss: 0.925225\n",
            "Epoch 36 \n",
            "-------------------------------\n",
            "Avg loss: 0.908857\n",
            "Epoch 37 \n",
            "-------------------------------\n",
            "Avg loss: 0.893527\n",
            "Epoch 38 \n",
            "-------------------------------\n",
            "Avg loss: 0.879179\n",
            "Epoch 39 \n",
            "-------------------------------\n",
            "Avg loss: 0.865681\n",
            "Epoch 40 \n",
            "-------------------------------\n",
            "Avg loss: 0.853031\n",
            "Epoch 41 \n",
            "-------------------------------\n",
            "Avg loss: 0.841283\n",
            "Epoch 42 \n",
            "-------------------------------\n",
            "Avg loss: 0.830447\n",
            "Epoch 43 \n",
            "-------------------------------\n",
            "Avg loss: 0.820425\n",
            "Epoch 44 \n",
            "-------------------------------\n",
            "Avg loss: 0.811180\n",
            "Epoch 45 \n",
            "-------------------------------\n",
            "Avg loss: 0.802648\n",
            "Epoch 46 \n",
            "-------------------------------\n",
            "Avg loss: 0.794792\n",
            "Epoch 47 \n",
            "-------------------------------\n",
            "Avg loss: 0.787679\n",
            "Epoch 48 \n",
            "-------------------------------\n",
            "Avg loss: 0.781242\n",
            "Epoch 49 \n",
            "-------------------------------\n",
            "Avg loss: 0.775352\n",
            "Epoch 50 \n",
            "-------------------------------\n",
            "Avg loss: 0.769972\n",
            "Epoch 51 \n",
            "-------------------------------\n",
            "Avg loss: 0.765180\n",
            "Epoch 52 \n",
            "-------------------------------\n",
            "Avg loss: 0.760868\n",
            "Epoch 53 \n",
            "-------------------------------\n",
            "Avg loss: 0.756934\n",
            "Epoch 54 \n",
            "-------------------------------\n",
            "Avg loss: 0.753443\n",
            "Epoch 55 \n",
            "-------------------------------\n",
            "Avg loss: 0.750196\n",
            "Epoch 56 \n",
            "-------------------------------\n",
            "Avg loss: 0.747269\n",
            "Epoch 57 \n",
            "-------------------------------\n",
            "Avg loss: 0.744610\n",
            "Epoch 58 \n",
            "-------------------------------\n",
            "Avg loss: 0.742326\n",
            "Epoch 59 \n",
            "-------------------------------\n",
            "Avg loss: 0.740384\n",
            "Epoch 60 \n",
            "-------------------------------\n",
            "Avg loss: 0.738617\n",
            "Epoch 61 \n",
            "-------------------------------\n",
            "Avg loss: 0.737004\n",
            "Epoch 62 \n",
            "-------------------------------\n",
            "Avg loss: 0.735423\n",
            "Epoch 63 \n",
            "-------------------------------\n",
            "Avg loss: 0.733849\n",
            "Epoch 64 \n",
            "-------------------------------\n",
            "Avg loss: 0.732285\n",
            "Epoch 65 \n",
            "-------------------------------\n",
            "Avg loss: 0.730872\n",
            "Epoch 66 \n",
            "-------------------------------\n",
            "Avg loss: 0.729660\n",
            "Epoch 67 \n",
            "-------------------------------\n",
            "Avg loss: 0.728643\n",
            "Epoch 68 \n",
            "-------------------------------\n",
            "Avg loss: 0.727833\n",
            "Epoch 69 \n",
            "-------------------------------\n",
            "Avg loss: 0.727153\n",
            "Epoch 70 \n",
            "-------------------------------\n",
            "Avg loss: 0.726474\n",
            "Epoch 71 \n",
            "-------------------------------\n",
            "Avg loss: 0.725765\n",
            "Epoch 72 \n",
            "-------------------------------\n",
            "Avg loss: 0.725062\n",
            "Epoch 73 \n",
            "-------------------------------\n",
            "Avg loss: 0.724485\n",
            "Epoch 74 \n",
            "-------------------------------\n",
            "Avg loss: 0.723958\n",
            "Epoch 75 \n",
            "-------------------------------\n",
            "Avg loss: 0.723386\n",
            "Epoch 76 \n",
            "-------------------------------\n",
            "Avg loss: 0.722932\n",
            "Epoch 77 \n",
            "-------------------------------\n",
            "Avg loss: 0.722565\n",
            "Epoch 78 \n",
            "-------------------------------\n",
            "Avg loss: 0.722286\n",
            "Epoch 79 \n",
            "-------------------------------\n",
            "Avg loss: 0.722021\n",
            "Epoch 80 \n",
            "-------------------------------\n",
            "Avg loss: 0.721930\n"
          ]
        }
      ]
    },
    {
      "cell_type": "code",
      "source": [
        "pred = my_model(test_x)\n",
        "plt.cla()\n",
        "plt.scatter(test_x.data.numpy(), test_y.data.numpy())\n",
        "plt.plot(test_x.data.numpy(), pred.data.numpy(), 'r-', lw=1)\n",
        "loss = criterion(pred, test_y) / len(test_y)\n",
        "plt.text(0.5, 0, 'Loss=%.4f' % loss.data.numpy(), fontdict={'size': 20, 'color':  'red'})\n",
        "plt.pause(0.1)"
      ],
      "metadata": {
        "colab": {
          "base_uri": "https://localhost:8080/",
          "height": 265
        },
        "id": "yJiKDalV0c7R",
        "outputId": "35a43110-b5be-4250-c080-4e3fbcb35828"
      },
      "execution_count": 30,
      "outputs": [
        {
          "output_type": "display_data",
          "data": {
            "text/plain": [
              "<Figure size 432x288 with 1 Axes>"
            ],
            "image/png": "[encoded data removed]"
          },
          "metadata": {
            "needs_background": "light"
          }
        }
      ]
    },
    {
      "cell_type": "markdown",
      "source": [
        "## Пример с классификацией"
      ],
      "metadata": {
        "id": "Um_N55KP1f4F"
      }
    },
    {
      "cell_type": "code",
      "source": [
        "json_file2 = {'cnt' : 3, 'type': 'classification', 'layers_info' : [3, 50, 20], 'output': 2, 'active_f': ['relu', 'relu'], 'rate' : 0.001}\n",
        "info2 = constructor.Information(json_file2)\n",
        "my_model2 = constructor.MyNeuralNetwork(info2)\n",
        "optimizer2 = torch.optim.Adam(my_model2.parameters(), lr=info2.rate)\n",
        "criterion2 = constructor.loss_functions[info2.type_module]"
      ],
      "metadata": {
        "id": "J843i2kx1fen"
      },
      "execution_count": 10,
      "outputs": []
    },
    {
      "cell_type": "code",
      "source": [
        "X,y = make_classification(n_samples=1000, n_features=3, n_informative=3, n_redundant=0, n_repeated=0, \n",
        "                          n_classes=2, n_clusters_per_class=2,class_sep=0.75,flip_y=0,weights=[0.5,0.5], \n",
        "                          random_state=17)"
      ],
      "metadata": {
        "id": "Gtcsj9YE2gUI"
      },
      "execution_count": 11,
      "outputs": []
    },
    {
      "cell_type": "code",
      "source": [
        "train_x2 = torch.FloatTensor(X[:800])\n",
        "train_y2 = torch.LongTensor(y[:800])\n",
        "test_x2 = torch.FloatTensor(X[800:])\n",
        "test_y2 = torch.LongTensor(y[800:])"
      ],
      "metadata": {
        "id": "TBzxEytV21M5"
      },
      "execution_count": 12,
      "outputs": []
    },
    {
      "cell_type": "code",
      "source": [
        "my_model2.eval()"
      ],
      "metadata": {
        "colab": {
          "base_uri": "https://localhost:8080/"
        },
        "id": "miCPPFGM5QmR",
        "outputId": "f6a437d8-325e-4878-e731-d66277d2d514"
      },
      "execution_count": 13,
      "outputs": [
        {
          "output_type": "execute_result",
          "data": {
            "text/plain": [
              "MyNeuralNetwork(\n",
              "  (layers): Sequential(\n",
              "    (0): Linear(in_features=3, out_features=50, bias=True)\n",
              "    (1): ReLU()\n",
              "    (2): Linear(in_features=50, out_features=20, bias=True)\n",
              "    (3): ReLU()\n",
              "    (4): Linear(in_features=20, out_features=2, bias=True)\n",
              "  )\n",
              ")"
            ]
          },
          "metadata": {},
          "execution_count": 13
        }
      ]
    },
    {
      "cell_type": "code",
      "source": [
        "torch.FloatTensor(X)"
      ],
      "metadata": {
        "colab": {
          "base_uri": "https://localhost:8080/"
        },
        "id": "6GFzxlfV6djb",
        "outputId": "5e26ed27-c990-4ad6-e9e2-fcdbf2a0b898"
      },
      "execution_count": 14,
      "outputs": [
        {
          "output_type": "execute_result",
          "data": {
            "text/plain": [
              "tensor([[-0.3779,  1.4499, -0.7930],\n",
              "        [ 1.6707, -2.0897, -0.4104],\n",
              "        [ 1.4636, -0.0717, -0.5266],\n",
              "        ...,\n",
              "        [-0.7818,  0.0704, -0.0299],\n",
              "        [-1.5275, -0.4404, -0.8069],\n",
              "        [ 0.6834, -1.7595, -0.2422]])"
            ]
          },
          "metadata": {},
          "execution_count": 14
        }
      ]
    },
    {
      "cell_type": "code",
      "source": [
        "history = []\n",
        "constructor.study(my_model2,train_x2, train_y2, test_x2, test_y2, criterion2, \n",
        "                  optimizer2, 100, history)"
      ],
      "metadata": {
        "colab": {
          "base_uri": "https://localhost:8080/"
        },
        "id": "cdoDJaoT45lV",
        "outputId": "582747a8-0353-46f8-bea0-30763e334bbf"
      },
      "execution_count": 16,
      "outputs": [
        {
          "output_type": "stream",
          "name": "stdout",
          "text": [
            "Epoch 1 \n",
            "-------------------------------\n",
            "Avg loss: 0.003450\n",
            "Epoch 2 \n",
            "-------------------------------\n",
            "Avg loss: 0.003415\n",
            "Epoch 3 \n",
            "-------------------------------\n",
            "Avg loss: 0.003382\n",
            "Epoch 4 \n",
            "-------------------------------\n",
            "Avg loss: 0.003349\n",
            "Epoch 5 \n",
            "-------------------------------\n",
            "Avg loss: 0.003316\n",
            "Epoch 6 \n",
            "-------------------------------\n",
            "Avg loss: 0.003284\n",
            "Epoch 7 \n",
            "-------------------------------\n",
            "Avg loss: 0.003253\n",
            "Epoch 8 \n",
            "-------------------------------\n",
            "Avg loss: 0.003221\n",
            "Epoch 9 \n",
            "-------------------------------\n",
            "Avg loss: 0.003191\n",
            "Epoch 10 \n",
            "-------------------------------\n",
            "Avg loss: 0.003160\n",
            "Epoch 11 \n",
            "-------------------------------\n",
            "Avg loss: 0.003131\n",
            "Epoch 12 \n",
            "-------------------------------\n",
            "Avg loss: 0.003102\n",
            "Epoch 13 \n",
            "-------------------------------\n",
            "Avg loss: 0.003073\n",
            "Epoch 14 \n",
            "-------------------------------\n",
            "Avg loss: 0.003045\n",
            "Epoch 15 \n",
            "-------------------------------\n",
            "Avg loss: 0.003018\n",
            "Epoch 16 \n",
            "-------------------------------\n",
            "Avg loss: 0.002990\n",
            "Epoch 17 \n",
            "-------------------------------\n",
            "Avg loss: 0.002963\n",
            "Epoch 18 \n",
            "-------------------------------\n",
            "Avg loss: 0.002935\n",
            "Epoch 19 \n",
            "-------------------------------\n",
            "Avg loss: 0.002908\n",
            "Epoch 20 \n",
            "-------------------------------\n",
            "Avg loss: 0.002881\n",
            "Epoch 21 \n",
            "-------------------------------\n",
            "Avg loss: 0.002854\n",
            "Epoch 22 \n",
            "-------------------------------\n",
            "Avg loss: 0.002827\n",
            "Epoch 23 \n",
            "-------------------------------\n",
            "Avg loss: 0.002799\n",
            "Epoch 24 \n",
            "-------------------------------\n",
            "Avg loss: 0.002772\n",
            "Epoch 25 \n",
            "-------------------------------\n",
            "Avg loss: 0.002745\n",
            "Epoch 26 \n",
            "-------------------------------\n",
            "Avg loss: 0.002718\n",
            "Epoch 27 \n",
            "-------------------------------\n",
            "Avg loss: 0.002690\n",
            "Epoch 28 \n",
            "-------------------------------\n",
            "Avg loss: 0.002662\n",
            "Epoch 29 \n",
            "-------------------------------\n",
            "Avg loss: 0.002635\n",
            "Epoch 30 \n",
            "-------------------------------\n",
            "Avg loss: 0.002607\n",
            "Epoch 31 \n",
            "-------------------------------\n",
            "Avg loss: 0.002580\n",
            "Epoch 32 \n",
            "-------------------------------\n",
            "Avg loss: 0.002552\n",
            "Epoch 33 \n",
            "-------------------------------\n",
            "Avg loss: 0.002524\n",
            "Epoch 34 \n",
            "-------------------------------\n",
            "Avg loss: 0.002496\n",
            "Epoch 35 \n",
            "-------------------------------\n",
            "Avg loss: 0.002469\n",
            "Epoch 36 \n",
            "-------------------------------\n",
            "Avg loss: 0.002441\n",
            "Epoch 37 \n",
            "-------------------------------\n",
            "Avg loss: 0.002413\n",
            "Epoch 38 \n",
            "-------------------------------\n",
            "Avg loss: 0.002386\n",
            "Epoch 39 \n",
            "-------------------------------\n",
            "Avg loss: 0.002358\n",
            "Epoch 40 \n",
            "-------------------------------\n",
            "Avg loss: 0.002330\n",
            "Epoch 41 \n",
            "-------------------------------\n",
            "Avg loss: 0.002302\n",
            "Epoch 42 \n",
            "-------------------------------\n",
            "Avg loss: 0.002275\n",
            "Epoch 43 \n",
            "-------------------------------\n",
            "Avg loss: 0.002247\n",
            "Epoch 44 \n",
            "-------------------------------\n",
            "Avg loss: 0.002220\n",
            "Epoch 45 \n",
            "-------------------------------\n",
            "Avg loss: 0.002192\n",
            "Epoch 46 \n",
            "-------------------------------\n",
            "Avg loss: 0.002165\n",
            "Epoch 47 \n",
            "-------------------------------\n",
            "Avg loss: 0.002137\n",
            "Epoch 48 \n",
            "-------------------------------\n",
            "Avg loss: 0.002110\n",
            "Epoch 49 \n",
            "-------------------------------\n",
            "Avg loss: 0.002083\n",
            "Epoch 50 \n",
            "-------------------------------\n",
            "Avg loss: 0.002055\n",
            "Epoch 51 \n",
            "-------------------------------\n",
            "Avg loss: 0.002028\n",
            "Epoch 52 \n",
            "-------------------------------\n",
            "Avg loss: 0.002001\n",
            "Epoch 53 \n",
            "-------------------------------\n",
            "Avg loss: 0.001975\n",
            "Epoch 54 \n",
            "-------------------------------\n",
            "Avg loss: 0.001948\n",
            "Epoch 55 \n",
            "-------------------------------\n",
            "Avg loss: 0.001922\n",
            "Epoch 56 \n",
            "-------------------------------\n",
            "Avg loss: 0.001895\n",
            "Epoch 57 \n",
            "-------------------------------\n",
            "Avg loss: 0.001869\n",
            "Epoch 58 \n",
            "-------------------------------\n",
            "Avg loss: 0.001844\n",
            "Epoch 59 \n",
            "-------------------------------\n",
            "Avg loss: 0.001818\n",
            "Epoch 60 \n",
            "-------------------------------\n",
            "Avg loss: 0.001793\n",
            "Epoch 61 \n",
            "-------------------------------\n",
            "Avg loss: 0.001768\n",
            "Epoch 62 \n",
            "-------------------------------\n",
            "Avg loss: 0.001744\n",
            "Epoch 63 \n",
            "-------------------------------\n",
            "Avg loss: 0.001720\n",
            "Epoch 64 \n",
            "-------------------------------\n",
            "Avg loss: 0.001696\n",
            "Epoch 65 \n",
            "-------------------------------\n",
            "Avg loss: 0.001672\n",
            "Epoch 66 \n",
            "-------------------------------\n",
            "Avg loss: 0.001649\n",
            "Epoch 67 \n",
            "-------------------------------\n",
            "Avg loss: 0.001626\n",
            "Epoch 68 \n",
            "-------------------------------\n",
            "Avg loss: 0.001604\n",
            "Epoch 69 \n",
            "-------------------------------\n",
            "Avg loss: 0.001582\n",
            "Epoch 70 \n",
            "-------------------------------\n",
            "Avg loss: 0.001561\n",
            "Epoch 71 \n",
            "-------------------------------\n",
            "Avg loss: 0.001540\n",
            "Epoch 72 \n",
            "-------------------------------\n",
            "Avg loss: 0.001519\n",
            "Epoch 73 \n",
            "-------------------------------\n",
            "Avg loss: 0.001499\n",
            "Epoch 74 \n",
            "-------------------------------\n",
            "Avg loss: 0.001479\n",
            "Epoch 75 \n",
            "-------------------------------\n",
            "Avg loss: 0.001459\n",
            "Epoch 76 \n",
            "-------------------------------\n",
            "Avg loss: 0.001439\n",
            "Epoch 77 \n",
            "-------------------------------\n",
            "Avg loss: 0.001420\n",
            "Epoch 78 \n",
            "-------------------------------\n",
            "Avg loss: 0.001401\n",
            "Epoch 79 \n",
            "-------------------------------\n",
            "Avg loss: 0.001382\n",
            "Epoch 80 \n",
            "-------------------------------\n",
            "Avg loss: 0.001364\n",
            "Epoch 81 \n",
            "-------------------------------\n",
            "Avg loss: 0.001346\n",
            "Epoch 82 \n",
            "-------------------------------\n",
            "Avg loss: 0.001328\n",
            "Epoch 83 \n",
            "-------------------------------\n",
            "Avg loss: 0.001311\n",
            "Epoch 84 \n",
            "-------------------------------\n",
            "Avg loss: 0.001294\n",
            "Epoch 85 \n",
            "-------------------------------\n",
            "Avg loss: 0.001277\n",
            "Epoch 86 \n",
            "-------------------------------\n",
            "Avg loss: 0.001261\n",
            "Epoch 87 \n",
            "-------------------------------\n",
            "Avg loss: 0.001245\n",
            "Epoch 88 \n",
            "-------------------------------\n",
            "Avg loss: 0.001229\n",
            "Epoch 89 \n",
            "-------------------------------\n",
            "Avg loss: 0.001214\n",
            "Epoch 90 \n",
            "-------------------------------\n",
            "Avg loss: 0.001199\n",
            "Epoch 91 \n",
            "-------------------------------\n",
            "Avg loss: 0.001184\n",
            "Epoch 92 \n",
            "-------------------------------\n",
            "Avg loss: 0.001170\n",
            "Epoch 93 \n",
            "-------------------------------\n",
            "Avg loss: 0.001156\n",
            "Epoch 94 \n",
            "-------------------------------\n",
            "Avg loss: 0.001142\n",
            "Epoch 95 \n",
            "-------------------------------\n",
            "Avg loss: 0.001129\n",
            "Epoch 96 \n",
            "-------------------------------\n",
            "Avg loss: 0.001116\n",
            "Epoch 97 \n",
            "-------------------------------\n",
            "Avg loss: 0.001104\n",
            "Epoch 98 \n",
            "-------------------------------\n",
            "Avg loss: 0.001091\n",
            "Epoch 99 \n",
            "-------------------------------\n",
            "Avg loss: 0.001080\n",
            "Epoch 100 \n",
            "-------------------------------\n",
            "Avg loss: 0.001068\n"
          ]
        }
      ]
    },
    {
      "cell_type": "code",
      "source": [
        "out = my_model2(test_x2)\n",
        "plt.cla()\n",
        "prediction = torch.max(out, 1)[1]\n",
        "pred_y = prediction.data.numpy()\n",
        "target_y = test_y2.data.numpy()\n",
        "plt.scatter(test_x2.data.numpy()[:, 0], test_x2.data.numpy()[:, 1], c=pred_y, s=100, lw=0, cmap='RdYlGn')\n",
        "accuracy = float((pred_y == target_y).astype(int).sum()) / float(target_y.size)\n",
        "plt.text(1.5, -4, 'Accuracy=%.2f' % accuracy, fontdict={'size': 20, 'color':  'red'})"
      ],
      "metadata": {
        "colab": {
          "base_uri": "https://localhost:8080/",
          "height": 282
        },
        "id": "vBo0CAThEPyd",
        "outputId": "ef3d1d85-a0d8-4188-83cf-ce7bd2d19050"
      },
      "execution_count": 26,
      "outputs": [
        {
          "output_type": "execute_result",
          "data": {
            "text/plain": [
              "Text(1.5, -4, 'Accuracy=0.91')"
            ]
          },
          "metadata": {},
          "execution_count": 26
        },
        {
          "output_type": "display_data",
          "data": {
            "text/plain": [
              "<Figure size 432x288 with 1 Axes>"
            ],
            "image/png": "[encoded data removed]"
          },
          "metadata": {
            "needs_background": "light"
          }
        }
      ]
    }
  ]
}